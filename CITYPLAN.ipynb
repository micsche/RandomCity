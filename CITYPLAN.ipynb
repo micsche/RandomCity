{
 "cells": [
  {
   "cell_type": "code",
   "execution_count": 1,
   "metadata": {},
   "outputs": [],
   "source": [
    "import numpy as np\n",
    "import cv2\n",
    "import pandas as pd\n",
    "\n",
    "from mpl_toolkits.mplot3d import axes3d\n",
    "import matplotlib.pyplot as plt\n",
    "from matplotlib.pyplot import figure\n",
    "from matplotlib import cm\n",
    "import numpy as np\n",
    "import random\n",
    "import math\n",
    "from math import sin, cos, radians\n",
    "from bresenham import bresenham\n",
    "\n",
    "%matplotlib inline"
   ]
  },
  {
   "cell_type": "code",
   "execution_count": 2,
   "metadata": {},
   "outputs": [],
   "source": [
    "mapsize=500"
   ]
  },
  {
   "cell_type": "code",
   "execution_count": 3,
   "metadata": {},
   "outputs": [],
   "source": [
    "## locations with size from 1 to 10\n",
    "\n",
    "sizes  =       [100,200,250,300,350,400,500,1000,2000,4000]\n",
    "shapes =       [[10,10],[10,20],[10,25]  ,[15,20], [15,23], [20,20] ,[20,25] ,[25,40] ,[50,40]  ,[50,80]  ]\n",
    "vernac =       [74,88,35,16,9,6,0,0,0,0] # urban/rural\n",
    "worklocs =     [71,38,14, 9,6,1,0,0,0,0] # urban/industrial/rural\n",
    "publicplaces = [0,0,0,0,6,5,4,3,2,1] ## (None,Garden,Square) (N,N,N,N,S,SG,SG,SG,G,G)\n",
    "gardens =      [0,0,0,0,0,3,2,2,2,1]\n",
    "plaza   =      [0,0,0,0,6,2,2,1,0,0]"
   ]
  },
  {
   "cell_type": "code",
   "execution_count": 4,
   "metadata": {},
   "outputs": [],
   "source": [
    "lists_of_lists = [vernac, worklocs, publicplaces, gardens, plaza]\n",
    "sz = [sum(x) for x in zip(*lists_of_lists)]\n",
    "size_prob = [x/sum(sz) for x in sz]"
   ]
  },
  {
   "cell_type": "code",
   "execution_count": 5,
   "metadata": {},
   "outputs": [],
   "source": [
    "def rotate_point(point, angle, translation, center_point=(0, 0)):\n",
    "    \"\"\"Rotates a point around center_point(origin by default)\n",
    "    Angle is in degrees.\n",
    "    Rotation is counter-clockwise\n",
    "    \"\"\"\n",
    "    angle_rad = radians(angle % 360)\n",
    "    (x,y) = translation\n",
    "    # Shift the point so that center_point becomes the origin\n",
    "    new_point = (point[0] - center_point[0], point[1] - center_point[1])\n",
    "    new_point = (new_point[0] * cos(angle_rad) - new_point[1] * sin(angle_rad),\n",
    "                 new_point[0] * sin(angle_rad) + new_point[1] * cos(angle_rad))\n",
    "    # Reverse the shifting we have done\n",
    "    new_point = (np.int32(new_point[0] + center_point[0] + x), np.int32(new_point[1] + center_point[1] + y))\n",
    "    return new_point"
   ]
  },
  {
   "cell_type": "markdown",
   "metadata": {},
   "source": [
    "### Start all 0"
   ]
  },
  {
   "cell_type": "code",
   "execution_count": 6,
   "metadata": {},
   "outputs": [],
   "source": [
    "map_schem = np.zeros((mapsize,mapsize),dtype=np.uint8)\n",
    "map_rot   = np.zeros((mapsize,mapsize),dtype=np.uint8)\n",
    "\n",
    "UNUTILISED = 0\n",
    "AVAILABLE_RD = 1\n",
    "AVAILABLE_BLD = 2\n",
    "ROAD = 3\n",
    "BLD = 4"
   ]
  },
  {
   "cell_type": "code",
   "execution_count": 7,
   "metadata": {},
   "outputs": [],
   "source": [
    "def draw_shape(pshape,location,rotation,show=False):\n",
    "    ### Building, road and available site vectors \n",
    "    bld_poly =  [[0,0],[pshape[0],0],[pshape[0],pshape[1]],[0,pshape[1]]]\n",
    "    road_line = [[0,-1],[pshape[0],-1]]\n",
    "    avail_bld = [[0,-2],[pshape[0],-2]]\n",
    "    \n",
    "    ### Rotate Vectors\n",
    "    bld_poly_rot = np.array([[rotate_point(z,rotation,location) for z in bld_poly]], dtype=np.int32)\n",
    "    road_line_rot = [rotate_point(z,rotation,location) for z in road_line]\n",
    "    avail_line_rot = [rotate_point(z,rotation,location) for z in avail_bld]\n",
    "    \n",
    "    \n",
    "    ### Draw Vectors onto MAP\n",
    "    ### Site might not be available\n",
    "    cv2.line(map_schem,avail_line_rot[0],avail_line_rot[1],color=AVAILABLE_BLD,lineType=4)\n",
    "    \n",
    "    ### Road might already be present - check\n",
    "    cv2.line(map_schem,road_line_rot[0],road_line_rot[1],color=ROAD,lineType=4)\n",
    "    \n",
    "    ### Locate building\n",
    "    cv2.fillPoly(map_schem,bld_poly_rot,BLD)\n",
    "\n",
    "    if show:\n",
    "        plt.figure(num=None, figsize=(16, 12), dpi=80, facecolor='w', edgecolor='k')\n",
    "        plt.imshow(map_schem)\n",
    "\n",
    "        plt.show()"
   ]
  },
  {
   "cell_type": "code",
   "execution_count": 8,
   "metadata": {},
   "outputs": [],
   "source": [
    "def find_place(pshape):\n",
    "    \n",
    "    freeplace=0\n",
    "    \n",
    "    while freeplace<1:\n",
    "        ### Find possible site\n",
    "        site = 0\n",
    "        while site == 0:\n",
    "            (x,y) = (random.randint(0,mapsize-1),random.randint(0,mapsize-1))\n",
    "            site = map_schem[x,y]\n",
    "        score = []\n",
    "\n",
    "        for angle in range(0,360,12):\n",
    "            np = rotate_point([pshape[0],0],angle,(x,y)) \n",
    "            pixelpoints = bresenham(x,y,np[0],np[1])\n",
    "\n",
    "            totalv=0\n",
    "            for pixels in pixelpoints:\n",
    "                (xx,yy) = pixels\n",
    "                if  map_schem[xx,yy]==AVAILABLE_BLD:\n",
    "                    totalv = totalv + 1\n",
    "                else:\n",
    "                    totalv = totalv - 1\n",
    "            score.append(totalv)\n",
    "            \n",
    "        angle_at = 12*score.index(max(score))\n",
    "        freeplace = max(score)\n",
    "    return (x,y,180+angle_at)"
   ]
  },
  {
   "cell_type": "code",
   "execution_count": 9,
   "metadata": {},
   "outputs": [],
   "source": [
    "draw_shape([10,20],(250,250),45)"
   ]
  },
  {
   "cell_type": "markdown",
   "metadata": {},
   "source": [
    "### Start MAP"
   ]
  },
  {
   "cell_type": "code",
   "execution_count": 10,
   "metadata": {},
   "outputs": [],
   "source": [
    "random_choice = np.random.choice(np.arange(1, 11), p=size_prob)\n",
    "\n",
    "for buildings in range(10):\n",
    "    bld = shapes[random_choice]\n",
    "    (x,y,rot) = find_place(bld)\n",
    "    draw_shape(bld,[x,y],rot)"
   ]
  },
  {
   "cell_type": "code",
   "execution_count": 11,
   "metadata": {},
   "outputs": [
    {
     "data": {
      "image/png": "[encoded data removed]",
      "text/plain": [
       "<Figure size 1280x960 with 1 Axes>"
      ]
     },
     "metadata": {},
     "output_type": "display_data"
    }
   ],
   "source": [
    "plt.figure(num=None, figsize=(16, 12), dpi=80, facecolor='w', edgecolor='k')\n",
    "plt.imshow(map_schem)\n",
    "\n",
    "plt.show()"
   ]
  },
  {
   "cell_type": "code",
   "execution_count": null,
   "metadata": {},
   "outputs": [],
   "source": [
    "\n"
   ]
  }
 ],
 "metadata": {
  "kernelspec": {
   "display_name": "Python 3",
   "language": "python",
   "name": "python3"
  },
  "language_info": {
   "codemirror_mode": {
    "name": "ipython",
    "version": 3
   },
   "file_extension": ".py",
   "mimetype": "text/x-python",
   "name": "python",
   "nbconvert_exporter": "python",
   "pygments_lexer": "ipython3",
   "version": "3.7.3"
  }
 },
 "nbformat": 4,
 "nbformat_minor": 2
}
