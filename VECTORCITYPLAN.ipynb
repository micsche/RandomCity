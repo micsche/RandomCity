{
 "cells": [
  {
   "cell_type": "code",
   "execution_count": 1,
   "metadata": {},
   "outputs": [],
   "source": [
    "import numpy as np\n",
    "import cv2\n",
    "#import pandas as pd\n",
    "import logging\n",
    "\n",
    "#from mpl_toolkits.mplot3d import axes3d\n",
    "import matplotlib.pyplot as plt\n",
    "from matplotlib.pyplot import figure\n",
    "from matplotlib import cm\n",
    "import numpy as np\n",
    "import random\n",
    "import math\n",
    "from math import sin, cos, radians\n",
    "from shapely.geometry import Polygon,Point, MultiPoint, MultiPolygon\n",
    "from shapely import affinity\n",
    "from shapely.ops import unary_union\n",
    "from IPython.display import clear_output\n",
    "\n",
    "\n",
    "%matplotlib inline\n",
    "random.seed = 50"
   ]
  },
  {
   "cell_type": "code",
   "execution_count": 2,
   "metadata": {},
   "outputs": [],
   "source": [
    "LOG_FILENAME = \"logfile.log\"\n",
    "for handler in logging.root.handlers[:]:\n",
    "    logging.root.removeHandler(handler)\n",
    "logging.basicConfig(filename=LOG_FILENAME,level=logging.DEBUG)    \n",
    "logging.info('Job Started...')"
   ]
  },
  {
   "cell_type": "code",
   "execution_count": 3,
   "metadata": {},
   "outputs": [],
   "source": [
    "## locations with size from 1 to 10\n",
    "\n",
    "sizes  =       [100,200,250,300,350,400,500,1000,2000,4000]\n",
    "shapes =       [[10,10],[10,20],[10,25]  ,[15,20], [15,23], [20,20] ,[20,25] ,[25,40] ,[50,40]  ,[50,80]  ]\n",
    "vernac =       [74,88,35,16,9,6,0,0,0,0] # urban/rural\n",
    "worklocs =     [71,38,14, 9,6,1,0,0,0,0] # urban/industrial/rural\n",
    "publicplaces = [0,0,0,0,6,5,4,3,2,1] ## (None,Garden,Square) (N,N,N,N,S,SG,SG,SG,G,G)\n",
    "gardens =      [0,0,0,0,0,3,2,2,2,1]\n",
    "plaza   =      [0,0,0,0,6,2,2,1,0,0]"
   ]
  },
  {
   "cell_type": "code",
   "execution_count": 4,
   "metadata": {},
   "outputs": [],
   "source": [
    "lists_of_lists = [vernac, worklocs, publicplaces, gardens, plaza]\n",
    "sz = [sum(x) for x in zip(*lists_of_lists)]\n",
    "size_prob = [x/sum(sz) for x in sz]\n"
   ]
  },
  {
   "cell_type": "markdown",
   "metadata": {},
   "source": [
    "### Start all 0"
   ]
  },
  {
   "cell_type": "code",
   "execution_count": 5,
   "metadata": {},
   "outputs": [],
   "source": [
    "vec_bld = []\n",
    "avail_p = []\n",
    "roads   = []"
   ]
  },
  {
   "cell_type": "code",
   "execution_count": 6,
   "metadata": {},
   "outputs": [],
   "source": [
    "def rotate_tran(p1,rot,loc):\n",
    "    p2 = affinity.rotate(p1,rot,(0,0))\n",
    "    p3 = affinity.translate(p2,xoff=loc[0],yoff=loc[1])\n",
    "    return p3"
   ]
  },
  {
   "cell_type": "code",
   "execution_count": 7,
   "metadata": {},
   "outputs": [],
   "source": [
    "def update_progress(progress):\n",
    "    bar_length = 20\n",
    "    if isinstance(progress, int):\n",
    "        progress = float(progress)\n",
    "    if not isinstance(progress, float):\n",
    "        progress = 0\n",
    "    if progress < 0:\n",
    "        progress = 0\n",
    "    if progress >= 1:\n",
    "        progress = 1"
   ]
  },
  {
   "cell_type": "code",
   "execution_count": 8,
   "metadata": {},
   "outputs": [],
   "source": [
    "def show_bld():\n",
    "    print(\"Buildings\")\n",
    "    for bldings in vec_bld:\n",
    "        print(bldings)\n",
    "        \n",
    "    print(\"\\nPoints\")\n",
    "    for av in avail_p:\n",
    "        [p1,edge,direc,prob,corner] = av\n",
    "        print(p1,edge,direc,prob,corner)\n",
    "        \n",
    "def draw_bld(Roads = True, points = True, Buildings = True, text = \"\"):\n",
    "    global vec_mask\n",
    "    \n",
    "    plt.figure(num=None, figsize=(16, 12), dpi=80, facecolor='black', edgecolor='black')\n",
    "    plt.axis('equal')\n",
    "    plt.text(10,10, text, fontsize=10)\n",
    "\n",
    "    for a in vec_mask:\n",
    "        plt.plot(*a.exterior.xy)\n",
    "        for s in a.interiors:\n",
    "            x,y = s.xy\n",
    "            plt.plot(x,y)\n",
    "        \n",
    "    if points:\n",
    "        for av in avail_p:\n",
    "            [p1,edge,direc,prob,corner] = av\n",
    "            plt.scatter(p1.x,p1.y)\n",
    "        \n",
    "    plt.show()\n"
   ]
  },
  {
   "cell_type": "code",
   "execution_count": 9,
   "metadata": {},
   "outputs": [],
   "source": [
    "thisroads = None\n",
    "\n",
    "def clean_points():\n",
    "    global thisroads\n",
    "                \n",
    "    \n",
    "    to_remove = []\n",
    "    for bldings in vec_bld:\n",
    "        for possible_locs in avail_p:\n",
    "            [p1,edge,direc,prob,corner] = possible_locs\n",
    "            if bldings.contains(p1) or bldings.touches(p1) or bldings.exterior.distance(p1)<3:\n",
    "                to_remove.append(possible_locs)\n",
    "    \n",
    "    \n",
    "    for thisroads in roads:\n",
    "        for possible_locs in avail_p:\n",
    "            [p1,edge,direc,prob,corner] = possible_locs\n",
    "            if thisroads.contains(p1) or thisroads.touches(p1):\n",
    "                to_remove.append(possible_locs)\n",
    "\n",
    "    for ind in to_remove:\n",
    "        if ind in avail_p:\n",
    "            avail_p.remove(ind)\n",
    "    # except:\n",
    "    #      logging.debug(\"ERROR\")\n",
    "                    \n",
    "\n",
    "    "
   ]
  },
  {
   "cell_type": "markdown",
   "metadata": {},
   "source": [
    "### Place Building\n",
    "- Building shape - polygon\n",
    "- edge - locate which vertex at location\n",
    "- bld_rot - Rotation\n",
    "- location - vertex to location"
   ]
  },
  {
   "cell_type": "code",
   "execution_count": 10,
   "metadata": {},
   "outputs": [],
   "source": [
    "ROAD_SIZE = 20\n",
    "ANGLE_DEV_STD_DEV = 1\n",
    "PREFERENCE_STRAIGHT = 2\n",
    "### Assumption of 4 point polygons\n",
    "### BLD is a shape of polygon \n",
    "### Vertex is the vertex number to be located in coord location\n",
    "### bld_rot if the angle of rotation to place the building\n",
    "### location co-ord where to put building\n",
    "### corner is \n",
    "\n",
    "BBCON = 0\n",
    "BRCON = 0\n",
    "RBCON = 0\n",
    "\n",
    "vec_mask = Polygon()\n",
    "\n",
    "def place_bld(bld, vertex, bld_rot, location,corner):\n",
    "    global roads, BBCON, BRCON, RBCON, vec_mask\n",
    "    \n",
    "    [bx,by] = bld\n",
    "    bld_rot = bld_rot + np.random.normal(0,ANGLE_DEV_STD_DEV)\n",
    "    \n",
    "    ## Choose vertex point\n",
    "    if vertex==0:\n",
    "        pp = Polygon([(0,0),(bx,0),(bx,by),(0,by)])\n",
    "        rd = Polygon([(-5,-0.5),(bx+5,-0.5),(bx+5,0.5-ROAD_SIZE),(-5,0.5-ROAD_SIZE)])\n",
    "        rdl = Polygon([(0.5-ROAD_SIZE,by),(-0.5,by),(-0.5,0.5-ROAD_SIZE),(0.5-ROAD_SIZE,0.5-ROAD_SIZE)])\n",
    "        rdr = Polygon([(bx+0.5,by),(bx+ROAD_SIZE-0.5,by),(bx+ROAD_SIZE-0.5,0.5-ROAD_SIZE),(bx+0.5,0.5-ROAD_SIZE)])\n",
    "        \n",
    "    elif vertex==1:\n",
    "        pp = Polygon([(-bx,0),   (0,0),   (0,by),          (-bx,by)])\n",
    "        rd = Polygon([(-5-bx,-0.5),(5,-0.5),(5,0.5-ROAD_SIZE),(-5-bx,0.5-ROAD_SIZE)])\n",
    "        rdl = Polygon([(-bx-0.5,by),(-bx-ROAD_SIZE+0.5,by),(-bx-ROAD_SIZE+0.5,0.5-ROAD_SIZE),(-bx-0.5,0.5-ROAD_SIZE)])\n",
    "        rdr = Polygon([(0.5,by),(ROAD_SIZE-0.5,by),(ROAD_SIZE-0.5,0.5-ROAD_SIZE),(0.5,0.5-ROAD_SIZE)])\n",
    "        \n",
    "    elif vertex==2:\n",
    "        pp = Polygon([(-bx,-by),(0,-by),(0,0),(-bx,0)])\n",
    "        rd = Polygon([(-5-bx,-by-0.5),(5,-by-0.5),(5,-by+0.5-ROAD_SIZE),(-5-bx, -by+0.5-ROAD_SIZE)])\n",
    "        rdl = Polygon([(-bx-0.5,0),(-bx+0.5-ROAD_SIZE,0),(-bx+0.5-ROAD_SIZE,-by+0.5-ROAD_SIZE),(-bx-0.5,-by+0.5-ROAD_SIZE)])\n",
    "        rdr = Polygon([(0.5,0),(ROAD_SIZE-0.5,0),(ROAD_SIZE-0.5,-by+0.5-ROAD_SIZE),(0.5,-by+0.5-ROAD_SIZE)])\n",
    "                      \n",
    "    elif vertex==3:\n",
    "        pp = Polygon([(0,-by),    (bx,-by),    (bx,0),                (0,0)])\n",
    "        rd = Polygon([(-5,-by-0.5),(bx+5,-by-0.5),(bx+5,-by+0.5-ROAD_SIZE),(-5, -by+0.5-ROAD_SIZE)])\n",
    "        rdl = Polygon([(-0.5,0),(-ROAD_SIZE+0.5,0),(-ROAD_SIZE+0.5,-ROAD_SIZE-by+0.5),(-0.5,-ROAD_SIZE-by+0.5)])\n",
    "        rdr = Polygon([(bx+0.5,0),(bx-0.5+ROAD_SIZE,0),(bx-0.5+ROAD_SIZE,-ROAD_SIZE-by+0.5),(bx+0.5,-ROAD_SIZE-by+0.5)])\n",
    "        \n",
    "    ## Rotate and Move building and place it in list\n",
    "    this_building = rotate_tran(pp,bld_rot,location)\n",
    "    \n",
    "    ## Check new building does not intersect other buildings\n",
    "    freespace = True   \n",
    "    if vec_mask.intersects(this_building):\n",
    "            freespace = False\n",
    "            BBCON = BBCON + 1\n",
    "    \n",
    "    ### Check that new roads do not overlap existing building\n",
    "    if freespace:\n",
    "        checkrd=[]\n",
    "        checkrd.append(rotate_tran(rd,bld_rot,location))\n",
    "        if corner == 1: checkrd.append(rotate_tran(rdr,bld_rot,location))\n",
    "        if corner == 2: checkrd.append(rotate_tran(rdl,bld_rot,location))\n",
    "        for road in checkrd:\n",
    "            for bldings in vec_bld:\n",
    "                if bldings.intersects(road):\n",
    "                    RBCON = RBCON + 1\n",
    "                    freespace = False\n",
    "                    break\n",
    "\n",
    "    if freespace: \n",
    "        # BUILDINGS\n",
    "        ## Put building in place\n",
    "        vec_bld.append(this_building)\n",
    "        vec_mask = unary_union([vec_mask, vec_bld[-1]])\n",
    "    \n",
    "        ## Create Points of possible buildings\n",
    "        x,y = pp.exterior.coords.xy\n",
    "        xx=x[0]\n",
    "        yy=y[0]\n",
    "        \n",
    "        ##PROPOSALS\n",
    "        ## If chosen a proposal inside corner don't propose building in the middle of road\n",
    "        if corner!= 2: \n",
    "            for loop in range(PREFERENCE_STRAIGHT): avail_p.append([rotate_tran(Point(xx-5   ,yy),bld_rot,location),1,bld_rot    ,5,  0]) \n",
    "            avail_p.append([rotate_tran(Point(xx-5   ,yy),bld_rot,location),2,bld_rot-90 ,1,  1])\n",
    "            \n",
    "        if corner!= 1: \n",
    "            for loop in range(PREFERENCE_STRAIGHT): avail_p.append([rotate_tran(Point(xx+bx+5,yy),bld_rot,location),0,bld_rot      ,5,  0]) #right\n",
    "            avail_p.append([rotate_tran(Point(xx+bx+5,yy),bld_rot,location),3,bld_rot+90   ,1 , 2])\n",
    "        \n",
    "        avail_p.append([rotate_tran(Point(xx     ,yy-ROAD_SIZE)     ,bld_rot,location),1,bld_rot+180,5,0])\n",
    "            \n",
    "        ##ROADS\n",
    "        roads.append(rotate_tran(rd,bld_rot,location))\n",
    "        vec_mask = unary_union([vec_mask, roads[-1]])\n",
    "        \n",
    "        ## Insert blank crossroads\n",
    "        if corner == 1: \n",
    "            roads.append(rotate_tran(rdr,bld_rot,location))\n",
    "            vec_mask = unary_union([vec_mask, roads[-1]])\n",
    "            \n",
    "        if corner == 2: \n",
    "            roads.append(rotate_tran(rdl,bld_rot,location))        \n",
    "            vec_mask = unary_union([vec_mask, roads[-1]])\n",
    "        \n",
    "        ## Clean any proposals that lie within buildings\n",
    "        clean_points()\n",
    "    else:\n",
    "        logging.debug(\"B2B:\"+str(BBCON)+\"-B2R:\"+str(BRCON)+\"-R2B:\"+str(RBCON))\n",
    "       \n",
    "    return freespace"
   ]
  },
  {
   "cell_type": "code",
   "execution_count": 11,
   "metadata": {},
   "outputs": [
    {
     "data": {
      "text/plain": [
       "True"
      ]
     },
     "execution_count": 11,
     "metadata": {},
     "output_type": "execute_result"
    }
   ],
   "source": [
    "vec_bld = []\n",
    "avail_p = []\n",
    "#roads   =  MultiPolygon([])\n",
    "#random_choice = np.random.choice(np.arange(1, 11), p=size_prob)\n",
    "place_bld( shapes[0], 3, 0, (0,0) ,0) #random.randint(0,11)*30, (250,250))"
   ]
  },
  {
   "cell_type": "code",
   "execution_count": 12,
   "metadata": {},
   "outputs": [
    {
     "name": "stdout",
     "output_type": "stream",
     "text": [
      "Available Space: 9  Buildings: 3 : 1"
     ]
    }
   ],
   "source": [
    "NO_OF_BUILDINGS = 2\n",
    "fitted = 0 \n",
    "not_fitted = 0\n",
    "draw_per = 0 \n",
    "for t in range(NO_OF_BUILDINGS):\n",
    "    \n",
    "    ### Find random available spot\n",
    "    random.shuffle(avail_p)\n",
    "    [p1,edge,direc,prob,corner] = avail_p.pop()\n",
    "    \n",
    "    foundplace = False\n",
    "    cnt=0\n",
    "    \n",
    "    shapes_now = shapes.copy()\n",
    "    size_p_now = size_prob.copy()\n",
    "    \n",
    "    while foundplace == False and len(shapes_now)>0:\n",
    "        cnt = cnt + 1\n",
    "        ## Choose random building size\n",
    "        shape_choice = random.choices(shapes_now ,weights = size_p_now, k=1)\n",
    "        \n",
    "        shindex = shapes_now.index(shape_choice[0])\n",
    "        del shapes_now[shindex]\n",
    "        del size_p_now[shindex]\n",
    "        \n",
    "        if len(shapes_now)>0:\n",
    "        \n",
    "            b=[a/sum(size_p_now) for a in size_p_now]\n",
    "            b[0]=b[0]+(1-sum(b))\n",
    "            size_p_now=b.copy()\n",
    "\n",
    "            ## Try to place building in spot\n",
    "            foundplace = place_bld(shape_choice[0], edge, direc, [p1.x,p1.y], corner)\n",
    "        \n",
    "    \n",
    "    ### Every 50 tries Draw MAP\n",
    "    draw_per = draw_per + 1\n",
    "    if draw_per>50:\n",
    "        clear_output(wait=True)\n",
    "        draw_bld(Roads = True, Buildings= True, points = True,text = str(len(vec_bld))+\"_\"+str(t))\n",
    "        draw_per = 0\n",
    "        \n",
    "    print(\"\\rAvailable Space:\",len(avail_p), \" Buildings:\",len(vec_bld),\":\",t,end=\"\",flush=True)\n",
    "    \n"
   ]
  },
  {
   "cell_type": "code",
   "execution_count": 13,
   "metadata": {
    "scrolled": true
   },
   "outputs": [
    {
     "data": {
      "image/png": "[encoded data removed]",
      "text/plain": [
       "<Figure size 1280x960 with 1 Axes>"
      ]
     },
     "metadata": {},
     "output_type": "display_data"
    }
   ],
   "source": [
    " draw_bld(Roads = True, Buildings= True, points = False)"
   ]
  },
  {
   "cell_type": "code",
   "execution_count": 14,
   "metadata": {},
   "outputs": [
    {
     "data": {
      "image/png": "[encoded data removed]",
      "text/plain": [
       "<Figure size 432x288 with 1 Axes>"
      ]
     },
     "metadata": {
      "needs_background": "light"
     },
     "output_type": "display_data"
    }
   ],
   "source": [
    "_w = vec_mask\n",
    "for a in _w:\n",
    "    plt.plot(*a.exterior.xy)\n",
    "    for s in a.interiors:\n",
    "        x,y = s.xy\n",
    "        plt.plot(x,y)"
   ]
  },
  {
   "cell_type": "markdown",
   "metadata": {
    "scrolled": true
   },
   "source": [
    "if _w.type == 'Polygon':\n",
    "    plt.plot(*_w.exterior.xy)\n",
    "    for a in _w.interiors:\n",
    "        x,y = a.xy\n",
    "        plt.plot(x,y);\n",
    "\n",
    "else:\n",
    "    x,y = _w.boundary.xy\n",
    "    plt.plot(x,y,color='black')"
   ]
  },
  {
   "cell_type": "code",
   "execution_count": null,
   "metadata": {},
   "outputs": [],
   "source": []
  }
 ],
 "metadata": {
  "kernelspec": {
   "display_name": "Python 3",
   "language": "python",
   "name": "python3"
  },
  "language_info": {
   "codemirror_mode": {
    "name": "ipython",
    "version": 3
   },
   "file_extension": ".py",
   "mimetype": "text/x-python",
   "name": "python",
   "nbconvert_exporter": "python",
   "pygments_lexer": "ipython3",
   "version": "3.7.4"
  }
 },
 "nbformat": 4,
 "nbformat_minor": 2
}
